{
 "cells": [
  {
   "cell_type": "markdown",
   "metadata": {},
   "source": [
    "\"\"\"\n",
    "@Author:Vijay Kumar M N</br>\n",
    "@Date: 2024-09-10</br>\n",
    "@Last Modified by: Vijay Kumar M N</br>\n",
    "@Last Modified: 2024-09-10</br>\n",
    "@Title : python program on searching algorithms .</br>\n",
    "\"\"\""
   ]
  },
  {
   "cell_type": "code",
   "execution_count": 8,
   "metadata": {},
   "outputs": [],
   "source": [
    "from collections import deque"
   ]
  },
  {
   "cell_type": "markdown",
   "metadata": {},
   "source": [
    "1.Write a python program to implement Binary Search?"
   ]
  },
  {
   "cell_type": "code",
   "execution_count": 26,
   "metadata": {},
   "outputs": [
    {
     "name": "stdout",
     "output_type": "stream",
     "text": [
      "3\n",
      "The element found at the index :3\n"
     ]
    }
   ],
   "source": [
    "def binary_search(array,low,high,key):\n",
    "    \"\"\"\n",
    "    Description:\n",
    "        This function is used to find the element in the list it will work only for the sorted list.\n",
    "    \n",
    "    Parameters:\n",
    "        array: list The element which has to search.\n",
    "        low: the first index in the list\n",
    "        high: The last index in the list\n",
    "        key:The element has to be searched\n",
    "    \n",
    "    Returns:\n",
    "        index or -1\"\"\"\n",
    "    #array=sorted(array)\n",
    "    array.sort()\n",
    "    while low<=high:\n",
    "        mid=(low+high)//2\n",
    "        if array[mid]==key:\n",
    "            return mid\n",
    "        elif array[mid]<key:\n",
    "            low=mid+1\n",
    "        else:\n",
    "            high=mid-1\n",
    "    return -1\n",
    "def main():\n",
    "    array=[10,20,15,100,50]\n",
    "    key=int(input(\"Enter the element which has to searched in the list:\"))\n",
    "    result=binary_search(array,0,len(array)-1,key)\n",
    "    print(result)\n",
    "    if result==-1:\n",
    "        print(\"The elment is not found\")\n",
    "    else:\n",
    "        print(f\"The element found at the index :{result}\")\n",
    "if __name__==\"__main__\":\n",
    "    main()\n"
   ]
  },
  {
   "cell_type": "markdown",
   "metadata": {},
   "source": [
    "3.Write a python program to implement the bfs?"
   ]
  },
  {
   "cell_type": "code",
   "execution_count": 10,
   "metadata": {},
   "outputs": [
    {
     "name": "stdout",
     "output_type": "stream",
     "text": [
      "BFS Traversal: ['A', 'B', 'C', 'D', 'E', 'F']\n"
     ]
    }
   ],
   "source": [
    "\n",
    "def bfs(graph, start):\n",
    "    \"\"\"\n",
    "    Description:\n",
    "        Performs Breadth-First Search on a graph from the given start node.\n",
    "    \n",
    "    Parameters:\n",
    "        graph :dict The adjacency list representation of the graph.\n",
    "        start: The starting node for BFS.\n",
    "    \n",
    "    Returns:\n",
    "        list: A list of nodes in the order they are visited.\n",
    "    \"\"\"\n",
    "    visited = set([start])  \n",
    "    queue = deque([start])\n",
    "    result = []\n",
    "\n",
    "    while queue:\n",
    "        nodes = queue.popleft()\n",
    "        result.append(nodes)\n",
    "        \n",
    "        \n",
    "       \n",
    "        for node in graph[nodes]:\n",
    "            \n",
    "            if node not in visited:\n",
    "                visited.add(node)  \n",
    "                queue.append(node)\n",
    "    \n",
    "    return result\n",
    "def main():\n",
    "    graph = {\n",
    "        'A': ['B', 'C','D'],\n",
    "        'B': [],\n",
    "        'C': ['E','F'],\n",
    "        'D': [],\n",
    "        'E': [],\n",
    "        'F': []\n",
    "            }\n",
    "\n",
    "    start_node = 'A'\n",
    "    print(\"BFS Traversal:\", bfs(graph, start_node)) \n",
    "if __name__==\"__main__\":\n",
    "    main()"
   ]
  },
  {
   "cell_type": "markdown",
   "metadata": {},
   "source": [
    "4. Write a python program to implement dfs?"
   ]
  },
  {
   "cell_type": "code",
   "execution_count": 11,
   "metadata": {},
   "outputs": [
    {
     "name": "stdout",
     "output_type": "stream",
     "text": [
      "DFS Traversal: ['A', 'B', 'D', 'E', 'F', 'C']\n"
     ]
    }
   ],
   "source": [
    "def dfs(graph, start):\n",
    "    \"\"\"\n",
    "    Description:\n",
    "        Performs Depth-First Search on a graph from the given start node.\n",
    "    \n",
    "    Parameters:\n",
    "        graph : dict The adjacency list representation of the graph.\n",
    "        start : The starting node for DFS.\n",
    "    \n",
    "    Returns:\n",
    "        list: A list of nodes in the order they are visited.\n",
    "    \"\"\"\n",
    "    visited = set()\n",
    "    stack = [start]\n",
    "    result = []\n",
    "\n",
    "    while stack:\n",
    "        node = stack.pop()\n",
    "        if node not in visited:\n",
    "            visited.add(node)\n",
    "            result.append(node)\n",
    "            stack.extend(reversed(graph[node]))  \n",
    "    \n",
    "    return result\n",
    "\n",
    "def main():\n",
    "    graph = {\n",
    "        'A': ['B', 'C'],\n",
    "        'B': ['D', 'E'],\n",
    "        'C': ['F'],\n",
    "        'D': [],\n",
    "        'E': ['F'],\n",
    "        'F': []\n",
    "    }\n",
    "\n",
    "    start_node = 'A'\n",
    "    print(\"DFS Traversal:\", dfs(graph, start_node)) \n",
    "if __name__==\"__main__\":\n",
    "    main()\n"
   ]
  }
 ],
 "metadata": {
  "kernelspec": {
   "display_name": "Python 3.10.5 64-bit",
   "language": "python",
   "name": "python3"
  },
  "language_info": {
   "codemirror_mode": {
    "name": "ipython",
    "version": 3
   },
   "file_extension": ".py",
   "mimetype": "text/x-python",
   "name": "python",
   "nbconvert_exporter": "python",
   "pygments_lexer": "ipython3",
   "version": "3.10.5"
  },
  "orig_nbformat": 4,
  "vscode": {
   "interpreter": {
    "hash": "a42ccb73e7d9bfdf27e036f1d2b8b681e55fc0743cc5586bc2474d4a60f4b886"
   }
  }
 },
 "nbformat": 4,
 "nbformat_minor": 2
}
