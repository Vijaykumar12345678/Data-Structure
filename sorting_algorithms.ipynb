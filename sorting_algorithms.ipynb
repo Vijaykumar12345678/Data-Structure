{
 "cells": [
  {
   "cell_type": "markdown",
   "metadata": {},
   "source": [
    "\"\"\"\n",
    "@Author:Vijay Kumar M N</br>\n",
    "@Date: 2024-09-10</br>\n",
    "@Last Modified by: Vijay Kumar M N</br>\n",
    "@Last Modified: 2024-09-10</br>\n",
    "@Title : python program on sorting algorithms .</br>\n",
    "\"\"\""
   ]
  },
  {
   "cell_type": "markdown",
   "metadata": {},
   "source": [
    "1. Write a program to implement the bubble sort?"
   ]
  },
  {
   "cell_type": "code",
   "execution_count": 1,
   "metadata": {},
   "outputs": [
    {
     "name": "stdout",
     "output_type": "stream",
     "text": [
      "before sorting: [64, 34, 25, 12, 22, 11]\n",
      "after  sorting: [11, 12, 22, 25, 34, 64]\n"
     ]
    }
   ],
   "source": [
    "def bubble_sort(array):\n",
    "    \n",
    "    \"\"\"\n",
    "    \n",
    "    Description:\n",
    "        This is used to sort the array by bubble sort.\n",
    "        \n",
    "    Parameters:\n",
    "        array: list \n",
    "    \n",
    "    returns:\n",
    "        array\n",
    "    \n",
    "    \"\"\"\n",
    "    \n",
    "    for i in range(len(array)):\n",
    "        for j in range(0,len(array)-i-1):\n",
    "            if array[j]>array[j+1]:\n",
    "                array[j],array[j+1]=array[j+1],array[j]\n",
    "    return array\n",
    "def main():\n",
    "    array = [64, 34, 25, 12, 22, 11]\n",
    "    print(f\"before sorting: {array}\")\n",
    "    result=bubble_sort(array)\n",
    "    print(f\"after  sorting: {result}\")\n",
    "\n",
    "if __name__==\"__main__\":\n",
    "    main()"
   ]
  },
  {
   "cell_type": "markdown",
   "metadata": {},
   "source": [
    "2.Write a python program to implement the selection sort?"
   ]
  },
  {
   "cell_type": "code",
   "execution_count": 17,
   "metadata": {},
   "outputs": [
    {
     "name": "stdout",
     "output_type": "stream",
     "text": [
      "before sorting: [64, 34, 25, 12, 22, 11]\n",
      "after  sorting: [11, 12, 22, 25, 34, 64]\n"
     ]
    }
   ],
   "source": [
    "def selection_sort(array):\n",
    "    \n",
    "    \"\"\"\n",
    "    \n",
    "    Description:\n",
    "        This is used to sort the array by selection sort.\n",
    "        \n",
    "    Parameters:\n",
    "        array: list \n",
    "    \n",
    "    returns:\n",
    "        array\n",
    "    \n",
    "    \"\"\"\n",
    "    \n",
    "    for index in range(len(array)):\n",
    "        min=index\n",
    "        for j in range(index,len(array)):\n",
    "            if array[j]<array[min]:\n",
    "                min=j\n",
    "        \n",
    "        array[index],array[min]=array[min],array[index]\n",
    "    return array\n",
    "def main():\n",
    "    array = [64, 34, 25, 12, 22, 11]\n",
    "    print(f\"before sorting: {array}\")\n",
    "    result=selection_sort(array)\n",
    "    print(f\"after  sorting: {result}\")\n",
    "\n",
    "if __name__==\"__main__\":\n",
    "    main()"
   ]
  },
  {
   "cell_type": "markdown",
   "metadata": {},
   "source": [
    "3. Write a python program to implement a quick sort?"
   ]
  },
  {
   "cell_type": "code",
   "execution_count": 16,
   "metadata": {},
   "outputs": [
    {
     "name": "stdout",
     "output_type": "stream",
     "text": [
      "before sorting: [64, 34, 25, 12, 22, 11]\n",
      "after  sorting: [11, 12, 22, 25, 34, 64]\n"
     ]
    }
   ],
   "source": [
    "def quick_sort(array):\n",
    "    \n",
    "    \"\"\"\n",
    "    Description:\n",
    "        This function is used to sort by quick sort\n",
    "    \n",
    "    Parameters:\n",
    "        array:list\n",
    "    \n",
    "    Returns:\n",
    "        array:list\n",
    "\n",
    "    \n",
    "    \"\"\"\n",
    "    \"\"\"\n",
    "    Time complexity:\n",
    "    Average case:θ ( N log (N))\n",
    "    Best Case:Ω (N log (N))\n",
    "    Worst Case:O(N ^ 2)\"\"\"\n",
    "\n",
    "    if len(array)<=1:\n",
    "        return array\n",
    "    else:\n",
    "        pivot=array[len(array)//2]\n",
    "        middle=[num for num in array if num==pivot]\n",
    "        left=[num for num in array if num < pivot]\n",
    "        right=[num for num in array if num>pivot]\n",
    "    return quick_sort(left)+quick_sort(middle)+quick_sort(right)\n",
    "def main():\n",
    "    array = [64, 34, 25, 12, 22, 11]\n",
    "    print(f\"before sorting: {array}\")\n",
    "    result=quick_sort(array)\n",
    "    print(f\"after  sorting: {result}\")\n",
    "\n",
    "if __name__==\"__main__\":\n",
    "    main()\n"
   ]
  },
  {
   "cell_type": "markdown",
   "metadata": {},
   "source": [
    "4.  Write a python program to implement merge sort?"
   ]
  },
  {
   "cell_type": "code",
   "execution_count": 23,
   "metadata": {},
   "outputs": [
    {
     "name": "stdout",
     "output_type": "stream",
     "text": [
      "before sorting: [64, 34, 25, 12, 22, 11]\n",
      "after  sorting: [11, 12, 22, 25, 34, 64]\n"
     ]
    }
   ],
   "source": [
    "def merge_sort(array):\n",
    "    \n",
    "    \"\"\"\n",
    "    Description:\n",
    "        This function is used to sort by merge sort\n",
    "    \n",
    "    Parameters:\n",
    "        array:list\n",
    "    \n",
    "    Returns:\n",
    "        merge(left,right) : it will call the function.\n",
    "\n",
    "    \n",
    "    \"\"\"\n",
    "    \n",
    "    if len(array)<=1:\n",
    "        return array\n",
    "    else:\n",
    "        mid=len(array)//2\n",
    "        left=merge_sort(array[:mid])\n",
    "        right=merge_sort(array[mid:])\n",
    "    return merge(left,right)\n",
    "\n",
    "\n",
    "def merge(left, right):\n",
    "    \"\"\"\n",
    "    Description:\n",
    "        Merges two sorted lists into one sorted list using list comprehension.\n",
    "    \n",
    "    Parameter:\n",
    "        left (list): The sorted left half.\n",
    "        right (list): The sorted right half.\n",
    "    \n",
    "    Returns:\n",
    "        list: The merged sorted list.\n",
    "    \"\"\"\n",
    "    result = []\n",
    "    i, j = 0, 0\n",
    "    \n",
    "    \n",
    "    while i < len(left) and j < len(right):\n",
    "        if left[i] < right[j]:\n",
    "            result.append(left[i])\n",
    "            i += 1\n",
    "        else:\n",
    "            result.append(right[j])\n",
    "            j += 1\n",
    "    \n",
    "    result.extend(left[i:])  \n",
    "    result.extend(right[j:])  \n",
    "    \n",
    "    return result\n",
    "\n",
    "\n",
    "\n",
    "\n",
    "def main():\n",
    "    array = [64, 34, 25, 12, 22, 11]\n",
    "    print(f\"before sorting: {array}\")\n",
    "    result=merge_sort(array)\n",
    "    print(f\"after  sorting: {result}\")\n",
    "\n",
    "if __name__==\"__main__\":\n",
    "    main()\n"
   ]
  }
 ],
 "metadata": {
  "kernelspec": {
   "display_name": "Python 3.10.5 64-bit",
   "language": "python",
   "name": "python3"
  },
  "language_info": {
   "codemirror_mode": {
    "name": "ipython",
    "version": 3
   },
   "file_extension": ".py",
   "mimetype": "text/x-python",
   "name": "python",
   "nbconvert_exporter": "python",
   "pygments_lexer": "ipython3",
   "version": "3.10.5"
  },
  "orig_nbformat": 4,
  "vscode": {
   "interpreter": {
    "hash": "a42ccb73e7d9bfdf27e036f1d2b8b681e55fc0743cc5586bc2474d4a60f4b886"
   }
  }
 },
 "nbformat": 4,
 "nbformat_minor": 2
}
